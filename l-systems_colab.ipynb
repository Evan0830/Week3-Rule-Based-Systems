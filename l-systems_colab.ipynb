{
  "cells": [
    {
      "cell_type": "markdown",
      "metadata": {
        "id": "UJLvKOJIgm02"
      },
      "source": [
        "<a href=\"https://colab.research.google.com/github/IAT-ComputationalCreativity-Spring2025/Week3-Rule-Based-Systems/blob/main/l-systems_colab.ipynb\" target=\"_parent\"><img src=\"https://colab.research.google.com/assets/colab-badge.svg\" alt=\"Open In Colab\"/></a>"
      ]
    },
    {
      "cell_type": "markdown",
      "metadata": {
        "id": "UawAPsrTgm03"
      },
      "source": [
        "# L-Systems (Lindenmayer Systems) Lab\n",
        "\n",
        "## Introduction\n",
        "\n",
        "L-Systems are parallel rewriting systems that were introduced by Aristid Lindenmayer in 1968. They are particularly useful for modeling plant growth and generating fractals. In this lab, we'll explore how to create various patterns using L-Systems.\n",
        "\n",
        "### Key Concepts:\n",
        "- **Axiom**: The initial state/string\n",
        "- **Production Rules**: Rules that define how to replace characters\n",
        "- **Iterations**: Number of times to apply the rules\n",
        "- **Turtle Graphics**: System for visualizing the L-System output\n",
        "\n",
        "Let's start by importing our required libraries:"
      ]
    },
    {
      "cell_type": "code",
      "execution_count": null,
      "metadata": {
        "id": "yVn5yt7Ygm04"
      },
      "outputs": [],
      "source": [
        "! pip install ColabTurtle"
      ]
    },
    {
      "cell_type": "code",
      "execution_count": null,
      "metadata": {
        "id": "RfPR3T65gm04"
      },
      "outputs": [],
      "source": [
        "import ColabTurtle.Turtle as t\n",
        "from IPython.display import clear_output"
      ]
    },
    {
      "cell_type": "markdown",
      "metadata": {
        "id": "1Ly3r3_Ygm04"
      },
      "source": [
        "## Part 1: Basic L-System Implementation\n",
        "\n",
        "First, let's implement our core L-System functions. These will be used throughout the lab to generate and draw various patterns."
      ]
    },
    {
      "cell_type": "code",
      "execution_count": null,
      "metadata": {
        "id": "snDfDtcOgm04"
      },
      "outputs": [],
      "source": [
        "def create_l_system(iterations, axiom, rules):\n",
        "    \"\"\"Generate L-System instructions based on axiom and rules.\"\"\"\n",
        "    result = axiom\n",
        "    for _ in range(iterations):\n",
        "        new_string = \"\"\n",
        "        for char in result:\n",
        "            new_string += rules.get(char, char)\n",
        "        result = new_string\n",
        "    return result\n",
        "\n",
        "def draw_l_system(instructions, angle, distance):\n",
        "    \"\"\"Draw the L-System using turtle graphics.\n",
        "\n",
        "    Parameters:\n",
        "    - instructions: string of L-System commands\n",
        "    - angle: turning angle in degrees\n",
        "    - distance: forward movement distance\n",
        "    \"\"\"\n",
        "    stack = []\n",
        "    for cmd in instructions:\n",
        "        if cmd == 'F':  # Move forward and draw\n",
        "            t.forward(distance)\n",
        "        elif cmd == 'f':  # Move forward without drawing\n",
        "            t.penup()\n",
        "            t.forward(distance)\n",
        "            t.pendown()\n",
        "        elif cmd == '+':  # Turn right\n",
        "            t.right(angle)\n",
        "        elif cmd == '-':  # Turn left\n",
        "            t.left(angle)\n",
        "        elif cmd == '[':  # Save current state\n",
        "            stack.append((t.position(), t.heading()))\n",
        "        elif cmd == ']':  # Restore previous state\n",
        "            position, heading = stack.pop()\n",
        "            t.penup()\n",
        "            t.goto(position)\n",
        "            t.setheading(heading)\n",
        "            t.pendown()\n",
        "\n",
        "def setup_turtle():\n",
        "        t.initializeTurtle()\n",
        "        t.hideturtle()\n",
        "        t.speed(13)  # Fastest speed\n",
        "        t.penup()\n",
        "        t.goto(t.window_width() // 2, t.window_height() - 50)  # Start position\n",
        "        t.pendown()\n"
      ]
    },
    {
      "cell_type": "markdown",
      "source": [
        "这些代码实现了基本的 **L-System（Lindenmayer System）**，一个用于生成复杂图案的递归模型。以下是详细的讲解：\n",
        "\n",
        "---\n",
        "\n",
        "### **Introduction to L-Systems**\n",
        "1. **Key Concepts**:\n",
        "   - **Axiom**: 初始状态或字符串，例如 \"F\"。\n",
        "   - **Production Rules**: 定义如何将字符替换为其他字符的规则，例如 `'F -> F+F-F'`。\n",
        "   - **Iterations**: 应用规则的次数，决定生成图案的复杂程度。\n",
        "   - **Turtle Graphics**: 使用海龟绘图库以可视化方式绘制图案。\n",
        "\n",
        "---\n",
        "\n",
        "### **代码详细解释**\n",
        "\n",
        "#### **`create_l_system` 函数**\n",
        "这个函数是核心，用于基于 **Axiom** 和 **规则** 生成 L-System 的指令序列。\n",
        "\n",
        "1. **输入参数**:\n",
        "   - `iterations`: 要迭代的次数，越多生成的图案越复杂。\n",
        "   - `axiom`: 初始字符串（如 \"F\"）。\n",
        "   - `rules`: 替换规则，字典格式。例如，`{'F': 'F+F-F'}`。\n",
        "\n",
        "2. **逻辑**:\n",
        "   - 初始状态是 `axiom`。\n",
        "   - 每次迭代中，将 `axiom` 中的每个字符按规则替换，生成新的字符串。\n",
        "   - 通过 `for char in result` 循环依次替换。\n",
        "\n",
        "3. **输出**:\n",
        "   - 返回经过多次迭代生成的字符串。\n",
        "\n",
        "---\n",
        "\n",
        "#### **`draw_l_system` 函数**\n",
        "该函数使用生成的指令字符串，通过 Turtle Graphics 绘制图案。\n",
        "\n",
        "1. **输入参数**:\n",
        "   - `instructions`: 来自 `create_l_system` 的指令字符串。\n",
        "   - `angle`: 转向角度。\n",
        "   - `distance`: 前进的步长。\n",
        "\n",
        "2. **逻辑**:\n",
        "   - 使用 `for cmd in instructions` 遍历指令，根据指令执行不同的绘图动作：\n",
        "     - `F`: 前进并画线。\n",
        "     - `f`: 前进但不画线。\n",
        "     - `+`: 向右转 `angle`。\n",
        "     - `-`: 向左转 `angle`。\n",
        "     - `[`: 保存当前的位置和方向。\n",
        "     - `]`: 恢复到保存的状态。\n",
        "\n",
        "3. **Stack**:\n",
        "   - 保存和恢复绘图状态时使用堆栈结构。\n",
        "   - 保存状态：`stack.append((t.position(), t.heading()))`。\n",
        "   - 恢复状态：`t.goto(position)` 和 `t.setheading(heading)`。\n",
        "\n",
        "---\n",
        "\n",
        "#### **`setup_turtle` 函数**\n",
        "初始化 Turtle Graphics 的环境。\n",
        "\n",
        "1. **主要功能**:\n",
        "   - 初始化 Turtle。\n",
        "   - 隐藏海龟图标。\n",
        "   - 设置最高速度 `t.speed(13)`。\n",
        "   - 移动到窗口的起始位置。\n",
        "\n",
        "---\n",
        "\n",
        "### **总结**\n",
        "这一部分代码提供了：\n",
        "- 用于生成 L-System 序列的函数。\n",
        "- 用于通过序列绘制图案的函数。\n",
        "\n",
        "这些基础函数为生成复杂的自然模式（如树木、叶子、分形图案）提供了可能性。接下来的部分可能会使用这些基础函数创建具体的图案或进一步优化生成方式。"
      ],
      "metadata": {
        "id": "oxqKFquxpIBh"
      }
    },
    {
      "cell_type": "markdown",
      "metadata": {
        "id": "EnxoqoDKgm05"
      },
      "source": [
        "## Exercise 1: Koch Curve\n",
        "\n",
        "The Koch curve is a classic example of a fractal pattern. Let's create it using our L-System:"
      ]
    },
    {
      "cell_type": "code",
      "execution_count": null,
      "metadata": {
        "id": "iJ5Qw1HAgm05"
      },
      "outputs": [],
      "source": [
        "# Koch curve parameters\n",
        "koch_axiom = \"F\"\n",
        "koch_rules = {\"F\": \"F+F-F-F+F\"}\n",
        "koch_iterations = 3\n",
        "koch_angle = 90\n",
        "\n",
        "# Generate and draw\n",
        "setup_turtle()\n",
        "t.pensize(2)\n",
        "koch_instructions = create_l_system(koch_iterations, koch_axiom, koch_rules)\n",
        "draw_l_system(koch_instructions, koch_angle, 5)"
      ]
    },
    {
      "cell_type": "markdown",
      "metadata": {
        "id": "KwWagME6gm05"
      },
      "source": [
        "### Exercise 1 Tasks:\n",
        "1. Try modifying the number of iterations (start with small numbers like 2-4)\n",
        "2. Change the angle to 60 degrees and observe the difference\n",
        "3. Modify the rules to create your own variation\n",
        "4. Try changing the distance parameter\n",
        "\n",
        "Note: Be careful with high iteration numbers as they can create very complex patterns!"
      ]
    },
    {
      "cell_type": "markdown",
      "source": [
        "这个 slide 展示了如何使用 L-System 生成 **Koch 曲线**，一个经典的分形模式。以下是详细讲解：\n",
        "\n",
        "---\n",
        "\n",
        "### **Koch Curve 的参数设置**\n",
        "1. **`koch_axiom` (公理)**:\n",
        "   - 初始状态为 `\"F\"`，表示前进。\n",
        "\n",
        "2. **`koch_rules` (生成规则)**:\n",
        "   - 规则为 `{\"F\": \"F+F−F−F+F\"}`：\n",
        "     - 每个 `\"F\"` 被替换为一个更复杂的字符串。\n",
        "     - `\"+\"` 和 `\"−\"` 分别表示右转和左转。\n",
        "\n",
        "3. **`koch_iterations` (迭代次数)**:\n",
        "   - 设置为 `3`，即规则将应用三次。\n",
        "   - 注意：迭代次数越高，生成的图案越复杂。\n",
        "\n",
        "4. **`koch_angle` (转角度数)**:\n",
        "   - 设置为 `90°`，每次转向时会右转或左转 90°。\n",
        "\n",
        "---\n",
        "\n",
        "### **绘制 Koch 曲线的代码逻辑**\n",
        "\n",
        "1. **设置海龟绘图环境 (`setup_turtle`)**:\n",
        "   - 初始化海龟绘图环境，设置线宽为 `2`。\n",
        "\n",
        "2. **生成 L-System 指令 (`create_l_system`)**:\n",
        "   - 使用函数生成指令字符串：\n",
        "     - 输入参数包括 `iterations`, `axiom`, 和 `rules`。\n",
        "     - 输出结果为迭代后的完整指令字符串。\n",
        "\n",
        "3. **绘图 (`draw_l_system`)**:\n",
        "   - 根据指令绘制 Koch 曲线。\n",
        "   - 每个 `\"F\"` 表示前进并绘制线段。\n",
        "   - `\"+\"` 和 `\"−\"` 分别表示右转和左转。\n",
        "\n",
        "---\n",
        "\n",
        "### **生成结果**\n",
        "- **生成的图案**:\n",
        "  - 图像中展示的是通过 3 次迭代绘制的 Koch 曲线。\n",
        "  - 由于每次迭代会增加曲线的复杂性，所以最终图案具有分形特性。\n",
        "\n",
        "---\n",
        "\n",
        "### **Exercise 1 的任务**\n",
        "1. **改变迭代次数 (`iterations`)**:\n",
        "   - 从小的迭代次数（如 `2-4`）开始，观察变化。\n",
        "   - 注意：高迭代次数会显著增加复杂性和计算量。\n",
        "\n",
        "2. **改变角度 (`angle`)**:\n",
        "   - 将角度从 `90°` 改为 `60°`，观察图案如何改变。\n",
        "   - 这会影响转向的角度，进而改变曲线形状。\n",
        "\n",
        "3. **修改规则 (`rules`)**:\n",
        "   - 自定义规则，例如：`{\"F\": \"F−F+F\"}`。\n",
        "   - 不同的规则会生成完全不同的分形图案。\n",
        "\n",
        "4. **调整步长 (`distance`)**:\n",
        "   - 改变每次前进的步长，控制图案的整体大小。\n",
        "\n",
        "---\n",
        "\n",
        "### **注意事项**\n",
        "- 高迭代次数可能导致程序运行缓慢甚至卡顿，因为生成的指令长度会成倍增加。\n",
        "- 小的角度（如 `30°`）和高迭代次数可能生成更精细的图案，但同时也更耗时。\n",
        "\n",
        "---\n",
        "\n",
        "### 总结\n",
        "通过 Koch 曲线的实验，你可以直观理解 L-System 的强大生成能力。结合不同的规则、角度和迭代次数，能够探索丰富多样的分形模式。"
      ],
      "metadata": {
        "id": "brelHF9DsbFk"
      }
    },
    {
      "cell_type": "markdown",
      "metadata": {
        "id": "9lhhFELwgm05"
      },
      "source": [
        "## Exercise 2: Plant Generation\n",
        "\n",
        "Now let's create a more complex L-System that generates plant-like structures. This system uses brackets to create branches:"
      ]
    },
    {
      "cell_type": "code",
      "execution_count": null,
      "metadata": {
        "id": "n-LPVnJRgm05"
      },
      "outputs": [],
      "source": [
        "# Plant parameters\n",
        "plant_axiom = \"X\"\n",
        "plant_rules = {\n",
        "    \"X\": \"F+[[X]-X]-F[-FX]+X\",\n",
        "    \"F\": \"FF\"\n",
        "}\n",
        "plant_iterations = 4\n",
        "plant_angle = 25\n",
        "\n",
        "# Generate and draw\n",
        "setup_turtle()\n",
        "t.pensize(1)\n",
        "plant_instructions = create_l_system(plant_iterations, plant_axiom, plant_rules)\n",
        "draw_l_system(plant_instructions, plant_angle, 10)"
      ]
    },
    {
      "cell_type": "markdown",
      "source": [
        "这个 slide 展示了如何使用 **L-System** 生成类似植物的分形结构。以下是详细讲解：\n",
        "\n",
        "---\n",
        "\n",
        "### **植物生成的参数设置**\n",
        "1. **`plant_axiom` (公理)**:\n",
        "   - 初始状态为 `\"X\"`，表示起始符号。\n",
        "   - `\"X\"` 是生成植物结构的关键符号。\n",
        "\n",
        "2. **`plant_rules` (生成规则)**:\n",
        "   - 规则如下：\n",
        "     - `\"X\": \"F+[[X]-X]-F[-FX]+X\"`:\n",
        "       - `\"X\"` 代表分支。\n",
        "       - `\"+\"` 和 `\"-\"` 分别表示右转和左转。\n",
        "       - 方括号 `[` 和 `]` 表示保存和恢复位置（分支）。\n",
        "     - `\"F\": \"FF\"`:\n",
        "       - `\"F\"` 表示前进一步，生成主干。\n",
        "       - `\"FF\"` 表示前进两步，主干加长。\n",
        "\n",
        "3. **`plant_iterations` (迭代次数)**:\n",
        "   - 设置为 `4`，即规则应用四次。\n",
        "   - 迭代次数越高，分支结构越复杂。\n",
        "\n",
        "4. **`plant_angle` (转角度数)**:\n",
        "   - 设置为 `25°`，每次转向的角度。\n",
        "   - 决定了分支的分布形状。\n",
        "\n",
        "---\n",
        "\n",
        "### **绘制植物的代码逻辑**\n",
        "1. **设置海龟绘图环境 (`setup_turtle`)**:\n",
        "   - 初始化海龟绘图环境，设置线宽为 `1`。\n",
        "\n",
        "2. **生成 L-System 指令 (`create_l_system`)**:\n",
        "   - 使用 `plant_axiom` 和 `plant_rules` 生成指令字符串。\n",
        "   - 迭代 4 次后，生成复杂的分支指令。\n",
        "\n",
        "3. **绘图 (`draw_l_system`)**:\n",
        "   - 根据指令绘制植物分形结构。\n",
        "   - 特殊命令：\n",
        "     - **`[`: 保存当前状态** (位置和方向)。\n",
        "     - **`]`: 恢复上一次保存的状态**。\n",
        "     - **`F`: 前进并绘制线段**。\n",
        "     - **`+` 和 `-`: 分别右转和左转**。\n",
        "\n",
        "---\n",
        "\n",
        "### **生成结果**\n",
        "- **生成的图案**:\n",
        "  - 图像中展示的是一棵通过 4 次迭代生成的植物分形图案。\n",
        "  - 主干从中心延伸，分支按照规则分布。\n",
        "\n",
        "---\n",
        "\n",
        "### **实验建议**\n",
        "1. **改变迭代次数 (`iterations`)**:\n",
        "   - 减少到 3 次，图案会简单；增加到 5 次，图案会更加细致。\n",
        "\n",
        "2. **改变角度 (`angle`)**:\n",
        "   - 将角度从 `25°` 改为 `15°` 或 `30°`，观察分支的形状变化。\n",
        "\n",
        "3. **修改规则 (`rules`)**:\n",
        "   - 自定义规则，例如将 `\"X\": \"F[+X]F[-X]+X\"`。\n",
        "   - 观察规则如何影响分支模式。\n",
        "\n",
        "4. **调整步长 (`distance`)**:\n",
        "   - 改变 `10` 为更大的值，使图案更加展开。\n",
        "\n",
        "---\n",
        "\n",
        "### **总结**\n",
        "通过这次实验，你可以探索如何使用 L-System 和递归规则生成植物分形图案。通过调整规则、迭代次数和角度，你可以生成各种自然风格的分支结构。这种方法广泛用于计算机图形学和植物建模。"
      ],
      "metadata": {
        "id": "vtaifOE_tKwP"
      }
    },
    {
      "cell_type": "markdown",
      "metadata": {
        "id": "SqFVTozMgm05"
      },
      "source": [
        "## Challenge: Create a Fractal Tree\n",
        "\n",
        "Now it's your turn to experiment! Below is a template for creating a fractal tree. Try modifying the parameters to create different tree shapes:"
      ]
    },
    {
      "cell_type": "code",
      "execution_count": null,
      "metadata": {
        "id": "kT6sOZtcgm05"
      },
      "outputs": [],
      "source": [
        "# Your fractal tree parameters\n",
        "tree_axiom = \"F\"  # Start with a single trunk\n",
        "tree_rules = {\"F\": \"F[+F]F[-F]F\"}  # Basic branching rule\n",
        "tree_iterations = 3\n",
        "tree_angle = 30\n",
        "\n",
        "# Generate and draw\n",
        "setup_turtle()\n",
        "t.pensize(2)\n",
        "tree_instructions = create_l_system(tree_iterations, tree_axiom, tree_rules)\n",
        "draw_l_system(tree_instructions, tree_angle, 10)"
      ]
    },
    {
      "cell_type": "markdown",
      "metadata": {
        "id": "R7Vsv-oagm05"
      },
      "source": [
        "### Challenge Tasks:\n",
        "1. Modify the rules to create more realistic branching\n",
        "2. Add different colors for different parts of the tree\n",
        "3. Try to create a tree with varying branch lengths\n",
        "4. Experiment with asymmetric branching patterns\n",
        "\n",
        "## Additional Experiments\n",
        "Here are some ideas for further exploration:\n",
        "- Create a snowflake pattern\n",
        "- Generate a spiral pattern\n",
        "- Implement a dragon curve\n",
        "- Create a forest of different trees\n",
        "\n",
        "Tips:\n",
        "- Higher iterations create more complex patterns but take longer to draw\n",
        "- Small changes in rules can create dramatically different results\n",
        "- The angle parameter greatly affects the final appearance\n",
        "- Remember to close turtle windows between experiments"
      ]
    },
    {
      "cell_type": "markdown",
      "source": [
        "这个挑战任务的目标是生成一个分形树，并通过修改参数和规则探索不同的树形状。以下是详细讲解：\n",
        "\n",
        "---\n",
        "\n",
        "### **分形树的参数设置**\n",
        "1. **`tree_axiom` (公理)**:\n",
        "   - 初始值为 `\"F\"`，代表树的主干。\n",
        "\n",
        "2. **`tree_rules` (生成规则)**:\n",
        "   - `\"F\": \"F[+F]F[-F]F\"`:\n",
        "     - `\"F\"` 表示向前移动绘制线条。\n",
        "     - 方括号 `[` 和 `]` 表示分支的开始和结束，分别保存和恢复当前位置和方向。\n",
        "     - `+` 和 `-` 分别表示右转和左转，形成分支的角度。\n",
        "\n",
        "3. **`tree_iterations` (迭代次数)**:\n",
        "   - 设为 `3`，生成一个具有三层分支的树。\n",
        "   - 迭代次数越高，分支越复杂。\n",
        "\n",
        "4. **`tree_angle` (转角度数)**:\n",
        "   - 设为 `30°`，控制分支的分布角度。\n",
        "   - 改变角度会影响树的形状，例如更大的角度生成更分散的分支。\n",
        "\n",
        "---\n",
        "\n",
        "### **生成和绘图**\n",
        "1. **生成 L-System 指令 (`create_l_system`)**:\n",
        "   - 使用 `tree_axiom` 和 `tree_rules`，经过 3 次迭代生成指令字符串。\n",
        "   - 例如：初始 `\"F\"` 经过规则后生成类似 `\"F[+F]F[-F]F\"` 的复杂分支结构。\n",
        "\n",
        "2. **绘图 (`draw_l_system`)**:\n",
        "   - 使用生成的指令通过海龟绘图。\n",
        "   - 特殊命令：\n",
        "     - **`F`: 前进并绘制线条**。\n",
        "     - **`+`: 按指定角度右转**。\n",
        "     - **`-`: 按指定角度左转**。\n",
        "     - **`[` 和 `]`: 保存和恢复分支的状态**。\n",
        "\n",
        "---\n",
        "\n",
        "### **生成结果**\n",
        "- **展示的树形**:\n",
        "  - 主干从中心向上生长，左右分支按 30° 展开。\n",
        "  - 随着迭代次数增加，分支数量和复杂度提升。\n",
        "\n",
        "---\n",
        "\n",
        "### **实验建议**\n",
        "1. **修改规则**:\n",
        "   - 通过自定义规则生成更复杂或更简单的树形状。\n",
        "   - 例如，将规则改为 `\"F\": \"F[+F][-F]F\"`，分支会更对称。\n",
        "\n",
        "2. **添加颜色**:\n",
        "   - 根据分支深度或方向给不同分支添加颜色，模拟真实树木。\n",
        "\n",
        "3. **改变分支长度**:\n",
        "   - 修改绘图时的步长参数（例如 `10`），生成更高或更矮的树。\n",
        "\n",
        "4. **尝试非对称分支**:\n",
        "   - 修改规则或角度，例如增加额外的右转或左转，生成更自然的树形状。\n",
        "\n",
        "---\n",
        "\n",
        "### **总结**\n",
        "这次挑战让你能使用简单的 L-System 规则生成复杂的分形树，并通过调整规则、角度和颜色等参数进一步增强树的多样性。分形树是一种直观展示递归和生成式算法在图形学中的应用的方式，特别适合用于生成自然物体的模拟，如树木、植物或分支结构。"
      ],
      "metadata": {
        "id": "w7wv9RJDthvu"
      }
    }
  ],
  "metadata": {
    "kernelspec": {
      "display_name": "iat460",
      "language": "python",
      "name": "python3"
    },
    "language_info": {
      "codemirror_mode": {
        "name": "ipython",
        "version": 3
      },
      "file_extension": ".py",
      "mimetype": "text/x-python",
      "name": "python",
      "nbconvert_exporter": "python",
      "pygments_lexer": "ipython3",
      "version": "3.9.21"
    },
    "colab": {
      "provenance": []
    }
  },
  "nbformat": 4,
  "nbformat_minor": 0
}